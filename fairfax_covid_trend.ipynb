{
 "cells": [
  {
   "cell_type": "markdown",
   "metadata": {},
   "source": [
    "# recover trend using Bayesian structural time series model"
   ]
  },
  {
   "cell_type": "markdown",
   "metadata": {},
   "source": [
    "## load libraries"
   ]
  },
  {
   "cell_type": "code",
   "execution_count": 1,
   "metadata": {},
   "outputs": [
    {
     "name": "stdout",
     "output_type": "stream",
     "text": [
      "Populating the interactive namespace from numpy and matplotlib\n"
     ]
    }
   ],
   "source": [
    "# numerical libraries\n",
    "import numpy as np\n",
    "import scipy as sp\n",
    "import pystan\n",
    "\n",
    "# pandas!\n",
    "import pandas as pd\n",
    "\n",
    "# plotting libraries\n",
    "import matplotlib as mpl\n",
    "import matplotlib.pyplot as plt\n",
    "import seaborn as sns\n",
    "%pylab inline"
   ]
  },
  {
   "cell_type": "code",
   "execution_count": 2,
   "metadata": {},
   "outputs": [],
   "source": [
    "# clean up figures\n",
    "mpl.rcParams['axes.labelsize'] = 14\n",
    "mpl.rcParams['axes.spines.top'] = False\n",
    "mpl.rcParams['axes.spines.right'] = False\n",
    "mpl.rcParams['grid.alpha'] = 0.25"
   ]
  },
  {
   "cell_type": "markdown",
   "metadata": {},
   "source": [
    "## clean data"
   ]
  },
  {
   "cell_type": "code",
   "execution_count": 15,
   "metadata": {},
   "outputs": [],
   "source": [
    "# load in data\n",
    "covid_df = pd.read_csv('VDH-COVID-19-PublicUseDataset-Cases.csv')\n",
    "\n",
    "# select counties\n",
    "idx = covid_df['Locality'].isin(['Fairfax'])\n",
    "\n",
    "# grab columns we need\n",
    "ffx_df = covid_df[idx][['Report Date','Total Cases','Hospitalizations','Deaths']].copy()\n",
    "\n",
    "# groupby date and sort\n",
    "ffx_df = ffx_df.groupby(['Report Date']).sum().copy()\n",
    "ffx_df.reset_index(inplace=True)\n",
    "ffx_df['Report Date'] = pd.to_datetime(ffx_df['Report Date'])\n",
    "ffx_df = ffx_df.sort_values(['Report Date'])\n",
    "\n",
    "# columns to select\n",
    "l_cols = ['Total Cases','Hospitalizations','Deaths']\n",
    "d_cols = ['new_cases','new_hospitalizations','new_deaths']\n",
    "\n",
    "# create first difference\n",
    "ffx_delta_df = pd.DataFrame(np.array(ffx_df[1:][l_cols] - np.array(ffx_df[0:len(ffx_df)-1][l_cols])),\n",
    "                            columns=d_cols)\n",
    "\n",
    "# offset the date\n",
    "ffx_delta_df['report_date'] = list(ffx_df['Report Date'][1:])\n",
    "\n",
    "# add a day of week\n",
    "dow_map = {0:'Monday',1:'Tuesday',2:'Wednesday',3:'Thursday',4:'Friday',5:'Saturday',6:'Sunday'}\n",
    "ffx_delta_df['day_of_week'] = [ffx_delta_df.loc[i,'report_date'].weekday() for i in ffx_delta_df.index]\n",
    "ffx_delta_df['day_of_week'] = ffx_delta_df['day_of_week'].map(dow_map)"
   ]
  },
  {
   "cell_type": "markdown",
   "metadata": {},
   "source": [
    "## plot data"
   ]
  },
  {
   "cell_type": "code",
   "execution_count": 16,
   "metadata": {},
   "outputs": [
    {
     "data": {
      "image/png": "[encoded data removed]",
      "text/plain": [
       "<Figure size 864x432 with 1 Axes>"
      ]
     },
     "metadata": {
      "needs_background": "light"
     },
     "output_type": "display_data"
    }
   ],
   "source": [
    "plt.figure(figsize=(12,6))\n",
    "plt.scatter(ffx_delta_df['report_date'],ffx_delta_df['new_cases'],s=25,color='navy')\n",
    "plt.bar(ffx_delta_df['report_date'],ffx_delta_df['new_cases'],align='center',width=0.15,alpha=0.5,color='navy');"
   ]
  },
  {
   "cell_type": "markdown",
   "metadata": {},
   "source": [
    "## create indicator variable for 5/7/2020"
   ]
  },
  {
   "cell_type": "code",
   "execution_count": 17,
   "metadata": {},
   "outputs": [],
   "source": [
    "# create indicator variable for 05/07/2020\n",
    "ffx_delta_df['low_day'] = [1 if i == 50 else 0 for i in range(len(ffx_delta_df))]"
   ]
  },
  {
   "cell_type": "code",
   "execution_count": 18,
   "metadata": {},
   "outputs": [
    {
     "data": {
      "text/html": [
       "<div>\n",
       "<style scoped>\n",
       "    .dataframe tbody tr th:only-of-type {\n",
       "        vertical-align: middle;\n",
       "    }\n",
       "\n",
       "    .dataframe tbody tr th {\n",
       "        vertical-align: top;\n",
       "    }\n",
       "\n",
       "    .dataframe thead th {\n",
       "        text-align: right;\n",
       "    }\n",
       "</style>\n",
       "<table border=\"1\" class=\"dataframe\">\n",
       "  <thead>\n",
       "    <tr style=\"text-align: right;\">\n",
       "      <th></th>\n",
       "      <th>new_cases</th>\n",
       "      <th>new_hospitalizations</th>\n",
       "      <th>new_deaths</th>\n",
       "      <th>report_date</th>\n",
       "      <th>day_of_week</th>\n",
       "      <th>low_day</th>\n",
       "    </tr>\n",
       "  </thead>\n",
       "  <tbody>\n",
       "    <tr>\n",
       "      <th>48</th>\n",
       "      <td>219</td>\n",
       "      <td>16</td>\n",
       "      <td>3</td>\n",
       "      <td>2020-05-05</td>\n",
       "      <td>Tuesday</td>\n",
       "      <td>0</td>\n",
       "    </tr>\n",
       "    <tr>\n",
       "      <th>49</th>\n",
       "      <td>182</td>\n",
       "      <td>37</td>\n",
       "      <td>5</td>\n",
       "      <td>2020-05-06</td>\n",
       "      <td>Wednesday</td>\n",
       "      <td>0</td>\n",
       "    </tr>\n",
       "    <tr>\n",
       "      <th>50</th>\n",
       "      <td>29</td>\n",
       "      <td>8</td>\n",
       "      <td>5</td>\n",
       "      <td>2020-05-07</td>\n",
       "      <td>Thursday</td>\n",
       "      <td>1</td>\n",
       "    </tr>\n",
       "    <tr>\n",
       "      <th>51</th>\n",
       "      <td>293</td>\n",
       "      <td>49</td>\n",
       "      <td>16</td>\n",
       "      <td>2020-05-08</td>\n",
       "      <td>Friday</td>\n",
       "      <td>0</td>\n",
       "    </tr>\n",
       "    <tr>\n",
       "      <th>52</th>\n",
       "      <td>272</td>\n",
       "      <td>21</td>\n",
       "      <td>3</td>\n",
       "      <td>2020-05-09</td>\n",
       "      <td>Saturday</td>\n",
       "      <td>0</td>\n",
       "    </tr>\n",
       "    <tr>\n",
       "      <th>53</th>\n",
       "      <td>282</td>\n",
       "      <td>21</td>\n",
       "      <td>9</td>\n",
       "      <td>2020-05-10</td>\n",
       "      <td>Sunday</td>\n",
       "      <td>0</td>\n",
       "    </tr>\n",
       "    <tr>\n",
       "      <th>54</th>\n",
       "      <td>308</td>\n",
       "      <td>23</td>\n",
       "      <td>4</td>\n",
       "      <td>2020-05-11</td>\n",
       "      <td>Monday</td>\n",
       "      <td>0</td>\n",
       "    </tr>\n",
       "    <tr>\n",
       "      <th>55</th>\n",
       "      <td>270</td>\n",
       "      <td>26</td>\n",
       "      <td>10</td>\n",
       "      <td>2020-05-12</td>\n",
       "      <td>Tuesday</td>\n",
       "      <td>0</td>\n",
       "    </tr>\n",
       "    <tr>\n",
       "      <th>56</th>\n",
       "      <td>196</td>\n",
       "      <td>27</td>\n",
       "      <td>9</td>\n",
       "      <td>2020-05-13</td>\n",
       "      <td>Wednesday</td>\n",
       "      <td>0</td>\n",
       "    </tr>\n",
       "  </tbody>\n",
       "</table>\n",
       "</div>"
      ],
      "text/plain": [
       "    new_cases  new_hospitalizations  new_deaths report_date day_of_week  \\\n",
       "48        219                    16           3  2020-05-05     Tuesday   \n",
       "49        182                    37           5  2020-05-06   Wednesday   \n",
       "50         29                     8           5  2020-05-07    Thursday   \n",
       "51        293                    49          16  2020-05-08      Friday   \n",
       "52        272                    21           3  2020-05-09    Saturday   \n",
       "53        282                    21           9  2020-05-10      Sunday   \n",
       "54        308                    23           4  2020-05-11      Monday   \n",
       "55        270                    26          10  2020-05-12     Tuesday   \n",
       "56        196                    27           9  2020-05-13   Wednesday   \n",
       "\n",
       "    low_day  \n",
       "48        0  \n",
       "49        0  \n",
       "50        1  \n",
       "51        0  \n",
       "52        0  \n",
       "53        0  \n",
       "54        0  \n",
       "55        0  \n",
       "56        0  "
      ]
     },
     "execution_count": 18,
     "metadata": {},
     "output_type": "execute_result"
    }
   ],
   "source": [
    "ffx_delta_df[48:]"
   ]
  },
  {
   "cell_type": "markdown",
   "metadata": {},
   "source": [
    "## recover trend"
   ]
  },
  {
   "cell_type": "markdown",
   "metadata": {},
   "source": [
    "### compile Stan model"
   ]
  },
  {
   "cell_type": "code",
   "execution_count": 7,
   "metadata": {},
   "outputs": [
    {
     "name": "stderr",
     "output_type": "stream",
     "text": [
      "INFO:pystan:COMPILING THE C++ CODE FOR MODEL anon_model_e79150085e137362993ab4a5f42c1d6a NOW.\n"
     ]
    }
   ],
   "source": [
    "bsts = pystan.StanModel(file='lcl_lvl_irw.stan')"
   ]
  },
  {
   "cell_type": "markdown",
   "metadata": {},
   "source": [
    "### feed model"
   ]
  },
  {
   "cell_type": "code",
   "execution_count": 19,
   "metadata": {},
   "outputs": [],
   "source": [
    "# setup Stan dictionary\n",
    "len_y = len(ffx_delta_df)\n",
    "\n",
    "stan_data = {\n",
    "    'T':len_y,\n",
    "    'S':7,\n",
    "    'INTR':51,\n",
    "    'Y':np.log(1 + np.array(ffx_delta_df['new_cases']))\n",
    "}"
   ]
  },
  {
   "cell_type": "markdown",
   "metadata": {},
   "source": [
    "### estimate model"
   ]
  },
  {
   "cell_type": "code",
   "execution_count": 20,
   "metadata": {},
   "outputs": [
    {
     "name": "stderr",
     "output_type": "stream",
     "text": [
      "WARNING:pystan:n_eff / iter below 0.001 indicates that the effective sample size has likely been overestimated\n",
      "WARNING:pystan:Rhat above 1.1 or below 0.9 indicates that the chains very likely have not mixed\n"
     ]
    }
   ],
   "source": [
    "# conduct MCMC using Stan\n",
    "fit = bsts.sampling(data=stan_data,\n",
    "                    iter=800,\n",
    "                    control={'max_treedepth':13,'adapt_delta':0.98},\n",
    "                    chains=2\n",
    "                   )\n",
    "    \n",
    "# extract samples\n",
    "model_results = fit.extract(permuted=True)"
   ]
  },
  {
   "cell_type": "code",
   "execution_count": 21,
   "metadata": {},
   "outputs": [
    {
     "name": "stdout",
     "output_type": "stream",
     "text": [
      "Inference for Stan model: anon_model_e79150085e137362993ab4a5f42c1d6a.\n",
      "2 chains, each with iter=800; warmup=400; thin=1; \n",
      "post-warmup draws per chain=400, total post-warmup draws=800.\n",
      "\n",
      "            mean se_mean     sd   2.5%    25%    50%    75%  97.5%  n_eff   Rhat\n",
      "s_v          0.1  1.2e-3   0.03   0.06   0.08    0.1   0.12   0.17    541    1.0\n",
      "s_w         0.04  1.7e-3   0.03 1.4e-3   0.01   0.03   0.05   0.13    412    1.0\n",
      "s_Y         0.52  1.9e-3   0.06   0.42   0.48   0.51   0.55   0.64    913    1.0\n",
      "beta_intr  -2.07    0.02   0.61   -3.3  -2.49  -2.04  -1.66  -0.85   1170    1.0\n",
      "\n",
      "Samples were drawn using NUTS at Wed May 13 10:32:10 2020.\n",
      "For each parameter, n_eff is a crude measure of effective sample size,\n",
      "and Rhat is the potential scale reduction factor on split chains (at \n",
      "convergence, Rhat=1).\n"
     ]
    }
   ],
   "source": [
    "print(fit.stansummary(pars=['s_v','s_w','s_Y','beta_intr']))"
   ]
  },
  {
   "cell_type": "markdown",
   "metadata": {},
   "source": [
    "#### extract data from model"
   ]
  },
  {
   "cell_type": "code",
   "execution_count": 22,
   "metadata": {},
   "outputs": [],
   "source": [
    "# extract local level trend\n",
    "trend = np.mean(model_results['mu_exp'],axis=0) - 1\n",
    "ffx_delta_df['trend'] = trend\n",
    "\n",
    "# prediction\n",
    "pred = np.mean(model_results['Y_sim_exp'],axis=0) - 1\n",
    "ffx_delta_df['pred'] = pred\n",
    "\n",
    "# day of week effects\n",
    "dow = np.exp(np.mean(model_results['w'],axis=0)) - 1\n",
    "ffx_delta_df['dow'] = dow\n",
    "\n",
    "# slope of increase in new cases\n",
    "slope = np.exp(np.mean(model_results['v'],axis=0)) - 1\n",
    "ffx_delta_df['slope'] = slope"
   ]
  },
  {
   "cell_type": "code",
   "execution_count": 23,
   "metadata": {},
   "outputs": [
    {
     "data": {
      "text/html": [
       "<div>\n",
       "<style scoped>\n",
       "    .dataframe tbody tr th:only-of-type {\n",
       "        vertical-align: middle;\n",
       "    }\n",
       "\n",
       "    .dataframe tbody tr th {\n",
       "        vertical-align: top;\n",
       "    }\n",
       "\n",
       "    .dataframe thead th {\n",
       "        text-align: right;\n",
       "    }\n",
       "</style>\n",
       "<table border=\"1\" class=\"dataframe\">\n",
       "  <thead>\n",
       "    <tr style=\"text-align: right;\">\n",
       "      <th></th>\n",
       "      <th>new_cases</th>\n",
       "      <th>new_hospitalizations</th>\n",
       "      <th>new_deaths</th>\n",
       "      <th>report_date</th>\n",
       "      <th>day_of_week</th>\n",
       "      <th>low_day</th>\n",
       "      <th>trend</th>\n",
       "      <th>pred</th>\n",
       "      <th>dow</th>\n",
       "      <th>slope</th>\n",
       "    </tr>\n",
       "  </thead>\n",
       "  <tbody>\n",
       "    <tr>\n",
       "      <th>43</th>\n",
       "      <td>163</td>\n",
       "      <td>21</td>\n",
       "      <td>10</td>\n",
       "      <td>2020-04-30</td>\n",
       "      <td>Thursday</td>\n",
       "      <td>0</td>\n",
       "      <td>201.096696</td>\n",
       "      <td>225.156157</td>\n",
       "      <td>-0.037296</td>\n",
       "      <td>0.046313</td>\n",
       "    </tr>\n",
       "    <tr>\n",
       "      <th>44</th>\n",
       "      <td>286</td>\n",
       "      <td>37</td>\n",
       "      <td>3</td>\n",
       "      <td>2020-05-01</td>\n",
       "      <td>Friday</td>\n",
       "      <td>0</td>\n",
       "      <td>210.656489</td>\n",
       "      <td>258.278123</td>\n",
       "      <td>0.057120</td>\n",
       "      <td>0.048287</td>\n",
       "    </tr>\n",
       "    <tr>\n",
       "      <th>45</th>\n",
       "      <td>149</td>\n",
       "      <td>43</td>\n",
       "      <td>16</td>\n",
       "      <td>2020-05-02</td>\n",
       "      <td>Saturday</td>\n",
       "      <td>0</td>\n",
       "      <td>220.183598</td>\n",
       "      <td>252.589578</td>\n",
       "      <td>0.005979</td>\n",
       "      <td>0.043936</td>\n",
       "    </tr>\n",
       "    <tr>\n",
       "      <th>46</th>\n",
       "      <td>294</td>\n",
       "      <td>53</td>\n",
       "      <td>31</td>\n",
       "      <td>2020-05-03</td>\n",
       "      <td>Sunday</td>\n",
       "      <td>0</td>\n",
       "      <td>229.669104</td>\n",
       "      <td>273.615973</td>\n",
       "      <td>0.013245</td>\n",
       "      <td>0.042165</td>\n",
       "    </tr>\n",
       "    <tr>\n",
       "      <th>47</th>\n",
       "      <td>275</td>\n",
       "      <td>32</td>\n",
       "      <td>14</td>\n",
       "      <td>2020-05-04</td>\n",
       "      <td>Monday</td>\n",
       "      <td>0</td>\n",
       "      <td>238.091216</td>\n",
       "      <td>279.382611</td>\n",
       "      <td>0.012112</td>\n",
       "      <td>0.034138</td>\n",
       "    </tr>\n",
       "    <tr>\n",
       "      <th>48</th>\n",
       "      <td>219</td>\n",
       "      <td>16</td>\n",
       "      <td>3</td>\n",
       "      <td>2020-05-05</td>\n",
       "      <td>Tuesday</td>\n",
       "      <td>0</td>\n",
       "      <td>243.824695</td>\n",
       "      <td>270.735103</td>\n",
       "      <td>-0.035789</td>\n",
       "      <td>0.022096</td>\n",
       "    </tr>\n",
       "    <tr>\n",
       "      <th>49</th>\n",
       "      <td>182</td>\n",
       "      <td>37</td>\n",
       "      <td>5</td>\n",
       "      <td>2020-05-06</td>\n",
       "      <td>Wednesday</td>\n",
       "      <td>0</td>\n",
       "      <td>249.503020</td>\n",
       "      <td>281.603908</td>\n",
       "      <td>-0.013851</td>\n",
       "      <td>0.021629</td>\n",
       "    </tr>\n",
       "    <tr>\n",
       "      <th>50</th>\n",
       "      <td>29</td>\n",
       "      <td>8</td>\n",
       "      <td>5</td>\n",
       "      <td>2020-05-07</td>\n",
       "      <td>Thursday</td>\n",
       "      <td>1</td>\n",
       "      <td>257.402250</td>\n",
       "      <td>36.499218</td>\n",
       "      <td>-0.037769</td>\n",
       "      <td>0.030774</td>\n",
       "    </tr>\n",
       "    <tr>\n",
       "      <th>51</th>\n",
       "      <td>293</td>\n",
       "      <td>49</td>\n",
       "      <td>16</td>\n",
       "      <td>2020-05-08</td>\n",
       "      <td>Friday</td>\n",
       "      <td>0</td>\n",
       "      <td>264.085655</td>\n",
       "      <td>326.826808</td>\n",
       "      <td>0.061535</td>\n",
       "      <td>0.026358</td>\n",
       "    </tr>\n",
       "    <tr>\n",
       "      <th>52</th>\n",
       "      <td>272</td>\n",
       "      <td>21</td>\n",
       "      <td>3</td>\n",
       "      <td>2020-05-09</td>\n",
       "      <td>Saturday</td>\n",
       "      <td>0</td>\n",
       "      <td>268.691835</td>\n",
       "      <td>311.288558</td>\n",
       "      <td>0.002688</td>\n",
       "      <td>0.019050</td>\n",
       "    </tr>\n",
       "    <tr>\n",
       "      <th>53</th>\n",
       "      <td>282</td>\n",
       "      <td>21</td>\n",
       "      <td>9</td>\n",
       "      <td>2020-05-10</td>\n",
       "      <td>Sunday</td>\n",
       "      <td>0</td>\n",
       "      <td>269.317724</td>\n",
       "      <td>313.265606</td>\n",
       "      <td>0.011900</td>\n",
       "      <td>0.004282</td>\n",
       "    </tr>\n",
       "    <tr>\n",
       "      <th>54</th>\n",
       "      <td>308</td>\n",
       "      <td>23</td>\n",
       "      <td>4</td>\n",
       "      <td>2020-05-11</td>\n",
       "      <td>Monday</td>\n",
       "      <td>0</td>\n",
       "      <td>267.802878</td>\n",
       "      <td>324.432081</td>\n",
       "      <td>0.016241</td>\n",
       "      <td>-0.006297</td>\n",
       "    </tr>\n",
       "    <tr>\n",
       "      <th>55</th>\n",
       "      <td>270</td>\n",
       "      <td>26</td>\n",
       "      <td>10</td>\n",
       "      <td>2020-05-12</td>\n",
       "      <td>Tuesday</td>\n",
       "      <td>0</td>\n",
       "      <td>264.429653</td>\n",
       "      <td>284.486672</td>\n",
       "      <td>-0.034147</td>\n",
       "      <td>-0.022681</td>\n",
       "    </tr>\n",
       "    <tr>\n",
       "      <th>56</th>\n",
       "      <td>196</td>\n",
       "      <td>27</td>\n",
       "      <td>9</td>\n",
       "      <td>2020-05-13</td>\n",
       "      <td>Wednesday</td>\n",
       "      <td>0</td>\n",
       "      <td>262.924839</td>\n",
       "      <td>291.975618</td>\n",
       "      <td>-0.019910</td>\n",
       "      <td>-0.033572</td>\n",
       "    </tr>\n",
       "  </tbody>\n",
       "</table>\n",
       "</div>"
      ],
      "text/plain": [
       "    new_cases  new_hospitalizations  new_deaths report_date day_of_week  \\\n",
       "43        163                    21          10  2020-04-30    Thursday   \n",
       "44        286                    37           3  2020-05-01      Friday   \n",
       "45        149                    43          16  2020-05-02    Saturday   \n",
       "46        294                    53          31  2020-05-03      Sunday   \n",
       "47        275                    32          14  2020-05-04      Monday   \n",
       "48        219                    16           3  2020-05-05     Tuesday   \n",
       "49        182                    37           5  2020-05-06   Wednesday   \n",
       "50         29                     8           5  2020-05-07    Thursday   \n",
       "51        293                    49          16  2020-05-08      Friday   \n",
       "52        272                    21           3  2020-05-09    Saturday   \n",
       "53        282                    21           9  2020-05-10      Sunday   \n",
       "54        308                    23           4  2020-05-11      Monday   \n",
       "55        270                    26          10  2020-05-12     Tuesday   \n",
       "56        196                    27           9  2020-05-13   Wednesday   \n",
       "\n",
       "    low_day       trend        pred       dow     slope  \n",
       "43        0  201.096696  225.156157 -0.037296  0.046313  \n",
       "44        0  210.656489  258.278123  0.057120  0.048287  \n",
       "45        0  220.183598  252.589578  0.005979  0.043936  \n",
       "46        0  229.669104  273.615973  0.013245  0.042165  \n",
       "47        0  238.091216  279.382611  0.012112  0.034138  \n",
       "48        0  243.824695  270.735103 -0.035789  0.022096  \n",
       "49        0  249.503020  281.603908 -0.013851  0.021629  \n",
       "50        1  257.402250   36.499218 -0.037769  0.030774  \n",
       "51        0  264.085655  326.826808  0.061535  0.026358  \n",
       "52        0  268.691835  311.288558  0.002688  0.019050  \n",
       "53        0  269.317724  313.265606  0.011900  0.004282  \n",
       "54        0  267.802878  324.432081  0.016241 -0.006297  \n",
       "55        0  264.429653  284.486672 -0.034147 -0.022681  \n",
       "56        0  262.924839  291.975618 -0.019910 -0.033572  "
      ]
     },
     "execution_count": 23,
     "metadata": {},
     "output_type": "execute_result"
    }
   ],
   "source": [
    "ffx_delta_df.tail(14)"
   ]
  },
  {
   "cell_type": "code",
   "execution_count": 24,
   "metadata": {},
   "outputs": [],
   "source": [
    "# export data\n",
    "ffx_delta_df.to_csv('trend_dow_today.csv')"
   ]
  },
  {
   "cell_type": "markdown",
   "metadata": {},
   "source": [
    "#### plot trend"
   ]
  },
  {
   "cell_type": "code",
   "execution_count": 25,
   "metadata": {},
   "outputs": [
    {
     "data": {
      "image/png": "[encoded data removed]",
      "text/plain": [
       "<Figure size 648x648 with 3 Axes>"
      ]
     },
     "metadata": {
      "needs_background": "light"
     },
     "output_type": "display_data"
    }
   ],
   "source": [
    "# setup figure\n",
    "num_rows = 3\n",
    "num_cols = 1\n",
    "fig, ax = plt.subplots(num_rows, num_cols, figsize=(9, 9), sharex=True)\n",
    "\n",
    "# set the title for the figure\n",
    "st = fig.suptitle('Fairfax County COVID-19 Trends',y=1.025,fontsize=16)\n",
    "\n",
    "# new cases trends\n",
    "ax[0].plot(ffx_delta_df['report_date'],ffx_delta_df['new_cases'],'o',markersize=5,color='coral')\n",
    "ax[0].plot(ffx_delta_df['report_date'],trend,lw=3,color='steelblue')\n",
    "ax[0].set_title('New COVID-19 Cases',loc='left');\n",
    "\n",
    "# day of week effects\n",
    "ax[1].plot(ffx_delta_df['report_date'],dow,lw=1,color='seagreen')\n",
    "ax[1].text(datetime.date(2020,5,1),0.059,'Friday')\n",
    "ax[1].text(datetime.date(2020,5,8),0.059,'Friday')\n",
    "ax[1].set_title('Day of week effects',loc='left')\n",
    "\n",
    "# slope of new cases\n",
    "ax[2].plot(ffx_delta_df['report_date'],slope,lw=1,color='darksalmon')\n",
    "ax[2].set_title('Slope of new cases',loc='left')\n",
    "\n",
    "fig.tight_layout();"
   ]
  }
 ],
 "metadata": {
  "kernelspec": {
   "display_name": "Python 3",
   "language": "python",
   "name": "python3"
  },
  "language_info": {
   "codemirror_mode": {
    "name": "ipython",
    "version": 3
   },
   "file_extension": ".py",
   "mimetype": "text/x-python",
   "name": "python",
   "nbconvert_exporter": "python",
   "pygments_lexer": "ipython3",
   "version": "3.7.3"
  }
 },
 "nbformat": 4,
 "nbformat_minor": 2
}
