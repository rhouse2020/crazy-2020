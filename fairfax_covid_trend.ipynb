{
 "cells": [
  {
   "cell_type": "markdown",
   "metadata": {},
   "source": [
    "# recover trend using Bayesian structural time series model"
   ]
  },
  {
   "cell_type": "markdown",
   "metadata": {},
   "source": [
    "## load libraries"
   ]
  },
  {
   "cell_type": "code",
   "execution_count": 1,
   "metadata": {},
   "outputs": [
    {
     "name": "stdout",
     "output_type": "stream",
     "text": [
      "Populating the interactive namespace from numpy and matplotlib\n"
     ]
    }
   ],
   "source": [
    "# numerical libraries\n",
    "import numpy as np\n",
    "import scipy as sp\n",
    "import pystan\n",
    "\n",
    "# pandas!\n",
    "import pandas as pd\n",
    "\n",
    "# plotting libraries\n",
    "import matplotlib as mpl\n",
    "import matplotlib.pyplot as plt\n",
    "import seaborn as sns\n",
    "%pylab inline"
   ]
  },
  {
   "cell_type": "code",
   "execution_count": 2,
   "metadata": {},
   "outputs": [],
   "source": [
    "# clean up figures\n",
    "mpl.rcParams['axes.labelsize'] = 14\n",
    "mpl.rcParams['axes.spines.top'] = False\n",
    "mpl.rcParams['axes.spines.right'] = False\n",
    "mpl.rcParams['grid.alpha'] = 0.25"
   ]
  },
  {
   "cell_type": "markdown",
   "metadata": {},
   "source": [
    "## clean data"
   ]
  },
  {
   "cell_type": "code",
   "execution_count": 3,
   "metadata": {},
   "outputs": [],
   "source": [
    "# load in data\n",
    "covid_df = pd.read_csv('VDH-COVID-19-PublicUseDataset-Cases.csv')\n",
    "\n",
    "# select counties\n",
    "idx = covid_df['Locality'].isin(['Fairfax'])\n",
    "\n",
    "# grab columns we need\n",
    "ffx_df = covid_df[idx][['Report Date','Total Cases','Hospitalizations','Deaths']].copy()\n",
    "\n",
    "# groupby date and sort\n",
    "ffx_df = ffx_df.groupby(['Report Date']).sum().copy()\n",
    "ffx_df.reset_index(inplace=True)\n",
    "ffx_df['Report Date'] = pd.to_datetime(ffx_df['Report Date'])\n",
    "ffx_df = ffx_df.sort_values(['Report Date'])\n",
    "\n",
    "# columns to select\n",
    "l_cols = ['Total Cases','Hospitalizations','Deaths']\n",
    "d_cols = ['new_cases','new_hospitalizations','new_deaths']\n",
    "\n",
    "# create first difference\n",
    "ffx_delta_df = pd.DataFrame(np.array(ffx_df[1:][l_cols] - np.array(ffx_df[0:len(ffx_df)-1][l_cols])),\n",
    "                            columns=d_cols)\n",
    "\n",
    "# offset the date\n",
    "ffx_delta_df['report_date'] = list(ffx_df['Report Date'][1:])\n",
    "\n",
    "# add a day of week\n",
    "dow_map = {0:'Monday',1:'Tuesday',2:'Wednesday',3:'Thursday',4:'Friday',5:'Saturday',6:'Sunday'}\n",
    "ffx_delta_df['day_of_week'] = [ffx_delta_df.loc[i,'report_date'].weekday() for i in ffx_delta_df.index]\n",
    "ffx_delta_df['day_of_week'] = ffx_delta_df['day_of_week'].map(dow_map)"
   ]
  },
  {
   "cell_type": "markdown",
   "metadata": {},
   "source": [
    "## plot data"
   ]
  },
  {
   "cell_type": "code",
   "execution_count": 4,
   "metadata": {},
   "outputs": [
    {
     "data": {
      "image/png": "[encoded data removed]",
      "text/plain": [
       "<Figure size 864x432 with 1 Axes>"
      ]
     },
     "metadata": {
      "needs_background": "light"
     },
     "output_type": "display_data"
    }
   ],
   "source": [
    "plt.figure(figsize=(12,6))\n",
    "plt.scatter(ffx_delta_df['report_date'],ffx_delta_df['new_cases'],s=25,color='navy')\n",
    "plt.bar(ffx_delta_df['report_date'],ffx_delta_df['new_cases'],align='center',width=0.15,alpha=0.5,color='navy');"
   ]
  },
  {
   "cell_type": "markdown",
   "metadata": {},
   "source": [
    "## create indicator variable for 5/7/2020"
   ]
  },
  {
   "cell_type": "code",
   "execution_count": 5,
   "metadata": {},
   "outputs": [],
   "source": [
    "# create indicator variable for 05/07/2020\n",
    "ffx_delta_df['low_day'] = [1 if i == 50 else 0 for i in range(len(ffx_delta_df))]"
   ]
  },
  {
   "cell_type": "code",
   "execution_count": 6,
   "metadata": {},
   "outputs": [
    {
     "data": {
      "text/html": [
       "<div>\n",
       "<style scoped>\n",
       "    .dataframe tbody tr th:only-of-type {\n",
       "        vertical-align: middle;\n",
       "    }\n",
       "\n",
       "    .dataframe tbody tr th {\n",
       "        vertical-align: top;\n",
       "    }\n",
       "\n",
       "    .dataframe thead th {\n",
       "        text-align: right;\n",
       "    }\n",
       "</style>\n",
       "<table border=\"1\" class=\"dataframe\">\n",
       "  <thead>\n",
       "    <tr style=\"text-align: right;\">\n",
       "      <th></th>\n",
       "      <th>new_cases</th>\n",
       "      <th>new_hospitalizations</th>\n",
       "      <th>new_deaths</th>\n",
       "      <th>report_date</th>\n",
       "      <th>day_of_week</th>\n",
       "      <th>low_day</th>\n",
       "    </tr>\n",
       "  </thead>\n",
       "  <tbody>\n",
       "    <tr>\n",
       "      <th>48</th>\n",
       "      <td>219</td>\n",
       "      <td>16</td>\n",
       "      <td>3</td>\n",
       "      <td>2020-05-05</td>\n",
       "      <td>Tuesday</td>\n",
       "      <td>0</td>\n",
       "    </tr>\n",
       "    <tr>\n",
       "      <th>49</th>\n",
       "      <td>182</td>\n",
       "      <td>37</td>\n",
       "      <td>5</td>\n",
       "      <td>2020-05-06</td>\n",
       "      <td>Wednesday</td>\n",
       "      <td>0</td>\n",
       "    </tr>\n",
       "    <tr>\n",
       "      <th>50</th>\n",
       "      <td>29</td>\n",
       "      <td>8</td>\n",
       "      <td>5</td>\n",
       "      <td>2020-05-07</td>\n",
       "      <td>Thursday</td>\n",
       "      <td>1</td>\n",
       "    </tr>\n",
       "    <tr>\n",
       "      <th>51</th>\n",
       "      <td>293</td>\n",
       "      <td>49</td>\n",
       "      <td>16</td>\n",
       "      <td>2020-05-08</td>\n",
       "      <td>Friday</td>\n",
       "      <td>0</td>\n",
       "    </tr>\n",
       "    <tr>\n",
       "      <th>52</th>\n",
       "      <td>272</td>\n",
       "      <td>21</td>\n",
       "      <td>3</td>\n",
       "      <td>2020-05-09</td>\n",
       "      <td>Saturday</td>\n",
       "      <td>0</td>\n",
       "    </tr>\n",
       "    <tr>\n",
       "      <th>53</th>\n",
       "      <td>282</td>\n",
       "      <td>21</td>\n",
       "      <td>9</td>\n",
       "      <td>2020-05-10</td>\n",
       "      <td>Sunday</td>\n",
       "      <td>0</td>\n",
       "    </tr>\n",
       "    <tr>\n",
       "      <th>54</th>\n",
       "      <td>308</td>\n",
       "      <td>23</td>\n",
       "      <td>4</td>\n",
       "      <td>2020-05-11</td>\n",
       "      <td>Monday</td>\n",
       "      <td>0</td>\n",
       "    </tr>\n",
       "    <tr>\n",
       "      <th>55</th>\n",
       "      <td>270</td>\n",
       "      <td>26</td>\n",
       "      <td>10</td>\n",
       "      <td>2020-05-12</td>\n",
       "      <td>Tuesday</td>\n",
       "      <td>0</td>\n",
       "    </tr>\n",
       "  </tbody>\n",
       "</table>\n",
       "</div>"
      ],
      "text/plain": [
       "    new_cases  new_hospitalizations  new_deaths report_date day_of_week  \\\n",
       "48        219                    16           3  2020-05-05     Tuesday   \n",
       "49        182                    37           5  2020-05-06   Wednesday   \n",
       "50         29                     8           5  2020-05-07    Thursday   \n",
       "51        293                    49          16  2020-05-08      Friday   \n",
       "52        272                    21           3  2020-05-09    Saturday   \n",
       "53        282                    21           9  2020-05-10      Sunday   \n",
       "54        308                    23           4  2020-05-11      Monday   \n",
       "55        270                    26          10  2020-05-12     Tuesday   \n",
       "\n",
       "    low_day  \n",
       "48        0  \n",
       "49        0  \n",
       "50        1  \n",
       "51        0  \n",
       "52        0  \n",
       "53        0  \n",
       "54        0  \n",
       "55        0  "
      ]
     },
     "execution_count": 6,
     "metadata": {},
     "output_type": "execute_result"
    }
   ],
   "source": [
    "ffx_delta_df[48:]"
   ]
  },
  {
   "cell_type": "markdown",
   "metadata": {},
   "source": [
    "## recover trend"
   ]
  },
  {
   "cell_type": "markdown",
   "metadata": {},
   "source": [
    "### compile Stan model"
   ]
  },
  {
   "cell_type": "code",
   "execution_count": 7,
   "metadata": {},
   "outputs": [
    {
     "name": "stderr",
     "output_type": "stream",
     "text": [
      "INFO:pystan:COMPILING THE C++ CODE FOR MODEL anon_model_e79150085e137362993ab4a5f42c1d6a NOW.\n"
     ]
    }
   ],
   "source": [
    "bsts = pystan.StanModel(file='lcl_lvl_irw.stan')"
   ]
  },
  {
   "cell_type": "markdown",
   "metadata": {},
   "source": [
    "### feed model"
   ]
  },
  {
   "cell_type": "code",
   "execution_count": 8,
   "metadata": {},
   "outputs": [],
   "source": [
    "# setup Stan dictionary\n",
    "len_y = len(ffx_delta_df)\n",
    "\n",
    "stan_data = {\n",
    "    'T':len_y,\n",
    "    'S':7,\n",
    "    'INTR':51,\n",
    "    'Y':np.log(1 + np.array(ffx_delta_df['new_cases']))\n",
    "}"
   ]
  },
  {
   "cell_type": "markdown",
   "metadata": {},
   "source": [
    "### estimate model"
   ]
  },
  {
   "cell_type": "code",
   "execution_count": 9,
   "metadata": {},
   "outputs": [
    {
     "name": "stderr",
     "output_type": "stream",
     "text": [
      "WARNING:pystan:n_eff / iter below 0.001 indicates that the effective sample size has likely been overestimated\n",
      "WARNING:pystan:Rhat above 1.1 or below 0.9 indicates that the chains very likely have not mixed\n"
     ]
    }
   ],
   "source": [
    "# conduct MCMC using Stan\n",
    "fit = bsts.sampling(data=stan_data,\n",
    "                    iter=800,\n",
    "                    control={'max_treedepth':13,'adapt_delta':0.98},\n",
    "                    chains=2\n",
    "                   )\n",
    "    \n",
    "# extract samples\n",
    "model_results = fit.extract(permuted=True)"
   ]
  },
  {
   "cell_type": "code",
   "execution_count": 10,
   "metadata": {},
   "outputs": [
    {
     "name": "stdout",
     "output_type": "stream",
     "text": [
      "Inference for Stan model: anon_model_e79150085e137362993ab4a5f42c1d6a.\n",
      "2 chains, each with iter=800; warmup=400; thin=1; \n",
      "post-warmup draws per chain=400, total post-warmup draws=800.\n",
      "\n",
      "            mean se_mean     sd   2.5%    25%    50%    75%  97.5%  n_eff   Rhat\n",
      "s_v          0.1  1.5e-3   0.03   0.06   0.08    0.1   0.12   0.17    406   1.01\n",
      "s_w         0.04  2.6e-3   0.04 1.1e-3   0.02   0.03   0.06   0.13    196    1.0\n",
      "s_Y         0.52  2.4e-3   0.06   0.43   0.48   0.52   0.56   0.65    566    1.0\n",
      "beta_intr  -2.09    0.02   0.59   -3.2  -2.51   -2.1  -1.68  -0.94   1386    1.0\n",
      "\n",
      "Samples were drawn using NUTS at Wed May 13 09:40:09 2020.\n",
      "For each parameter, n_eff is a crude measure of effective sample size,\n",
      "and Rhat is the potential scale reduction factor on split chains (at \n",
      "convergence, Rhat=1).\n"
     ]
    }
   ],
   "source": [
    "print(fit.stansummary(pars=['s_v','s_w','s_Y','beta_intr']))"
   ]
  },
  {
   "cell_type": "markdown",
   "metadata": {},
   "source": [
    "#### extract data from model"
   ]
  },
  {
   "cell_type": "code",
   "execution_count": 11,
   "metadata": {},
   "outputs": [],
   "source": [
    "# extract local level trend\n",
    "lcl_lvl = np.mean(model_results['mu_exp'],axis=0) - 1\n",
    "ffx_delta_df['lcl_lvl'] = lcl_lvl\n",
    "\n",
    "# prediction\n",
    "pred = np.mean(model_results['Y_sim_exp'],axis=0) - 1\n",
    "ffx_delta_df['pred'] = pred\n",
    "\n",
    "# day of week effects\n",
    "dow = np.exp(np.mean(model_results['w'],axis=0)) - 1\n",
    "ffx_delta_df['dow'] = dow\n",
    "\n",
    "# slope of increase in new cases\n",
    "slope = np.exp(np.mean(model_results['v'],axis=0)) - 1\n",
    "ffx_delta_df['slope'] = slope"
   ]
  },
  {
   "cell_type": "code",
   "execution_count": 12,
   "metadata": {},
   "outputs": [
    {
     "data": {
      "text/html": [
       "<div>\n",
       "<style scoped>\n",
       "    .dataframe tbody tr th:only-of-type {\n",
       "        vertical-align: middle;\n",
       "    }\n",
       "\n",
       "    .dataframe tbody tr th {\n",
       "        vertical-align: top;\n",
       "    }\n",
       "\n",
       "    .dataframe thead th {\n",
       "        text-align: right;\n",
       "    }\n",
       "</style>\n",
       "<table border=\"1\" class=\"dataframe\">\n",
       "  <thead>\n",
       "    <tr style=\"text-align: right;\">\n",
       "      <th></th>\n",
       "      <th>new_cases</th>\n",
       "      <th>new_hospitalizations</th>\n",
       "      <th>new_deaths</th>\n",
       "      <th>report_date</th>\n",
       "      <th>day_of_week</th>\n",
       "      <th>low_day</th>\n",
       "      <th>lcl_lvl</th>\n",
       "      <th>pred</th>\n",
       "      <th>dow</th>\n",
       "      <th>slope</th>\n",
       "    </tr>\n",
       "  </thead>\n",
       "  <tbody>\n",
       "    <tr>\n",
       "      <th>42</th>\n",
       "      <td>170</td>\n",
       "      <td>30</td>\n",
       "      <td>10</td>\n",
       "      <td>2020-04-29</td>\n",
       "      <td>Wednesday</td>\n",
       "      <td>0</td>\n",
       "      <td>191.561594</td>\n",
       "      <td>225.102060</td>\n",
       "      <td>-0.005385</td>\n",
       "      <td>0.041234</td>\n",
       "    </tr>\n",
       "    <tr>\n",
       "      <th>43</th>\n",
       "      <td>163</td>\n",
       "      <td>21</td>\n",
       "      <td>10</td>\n",
       "      <td>2020-04-30</td>\n",
       "      <td>Thursday</td>\n",
       "      <td>0</td>\n",
       "      <td>199.412879</td>\n",
       "      <td>222.238548</td>\n",
       "      <td>-0.034039</td>\n",
       "      <td>0.040918</td>\n",
       "    </tr>\n",
       "    <tr>\n",
       "      <th>44</th>\n",
       "      <td>286</td>\n",
       "      <td>37</td>\n",
       "      <td>3</td>\n",
       "      <td>2020-05-01</td>\n",
       "      <td>Friday</td>\n",
       "      <td>0</td>\n",
       "      <td>208.499251</td>\n",
       "      <td>255.822374</td>\n",
       "      <td>0.062005</td>\n",
       "      <td>0.046128</td>\n",
       "    </tr>\n",
       "    <tr>\n",
       "      <th>45</th>\n",
       "      <td>149</td>\n",
       "      <td>43</td>\n",
       "      <td>16</td>\n",
       "      <td>2020-05-02</td>\n",
       "      <td>Saturday</td>\n",
       "      <td>0</td>\n",
       "      <td>216.754805</td>\n",
       "      <td>252.746652</td>\n",
       "      <td>-0.003041</td>\n",
       "      <td>0.039042</td>\n",
       "    </tr>\n",
       "    <tr>\n",
       "      <th>46</th>\n",
       "      <td>294</td>\n",
       "      <td>53</td>\n",
       "      <td>31</td>\n",
       "      <td>2020-05-03</td>\n",
       "      <td>Sunday</td>\n",
       "      <td>0</td>\n",
       "      <td>226.479435</td>\n",
       "      <td>263.502325</td>\n",
       "      <td>0.017804</td>\n",
       "      <td>0.044963</td>\n",
       "    </tr>\n",
       "    <tr>\n",
       "      <th>47</th>\n",
       "      <td>275</td>\n",
       "      <td>32</td>\n",
       "      <td>14</td>\n",
       "      <td>2020-05-04</td>\n",
       "      <td>Monday</td>\n",
       "      <td>0</td>\n",
       "      <td>234.239495</td>\n",
       "      <td>285.626857</td>\n",
       "      <td>0.012268</td>\n",
       "      <td>0.032474</td>\n",
       "    </tr>\n",
       "    <tr>\n",
       "      <th>48</th>\n",
       "      <td>219</td>\n",
       "      <td>16</td>\n",
       "      <td>3</td>\n",
       "      <td>2020-05-05</td>\n",
       "      <td>Tuesday</td>\n",
       "      <td>0</td>\n",
       "      <td>240.158020</td>\n",
       "      <td>273.624511</td>\n",
       "      <td>-0.045624</td>\n",
       "      <td>0.023362</td>\n",
       "    </tr>\n",
       "    <tr>\n",
       "      <th>49</th>\n",
       "      <td>182</td>\n",
       "      <td>37</td>\n",
       "      <td>5</td>\n",
       "      <td>2020-05-06</td>\n",
       "      <td>Wednesday</td>\n",
       "      <td>0</td>\n",
       "      <td>247.082994</td>\n",
       "      <td>273.938179</td>\n",
       "      <td>-0.008008</td>\n",
       "      <td>0.028440</td>\n",
       "    </tr>\n",
       "    <tr>\n",
       "      <th>50</th>\n",
       "      <td>29</td>\n",
       "      <td>8</td>\n",
       "      <td>5</td>\n",
       "      <td>2020-05-07</td>\n",
       "      <td>Thursday</td>\n",
       "      <td>1</td>\n",
       "      <td>255.982745</td>\n",
       "      <td>39.666961</td>\n",
       "      <td>-0.031101</td>\n",
       "      <td>0.035273</td>\n",
       "    </tr>\n",
       "    <tr>\n",
       "      <th>51</th>\n",
       "      <td>293</td>\n",
       "      <td>49</td>\n",
       "      <td>16</td>\n",
       "      <td>2020-05-08</td>\n",
       "      <td>Friday</td>\n",
       "      <td>0</td>\n",
       "      <td>265.529131</td>\n",
       "      <td>337.400486</td>\n",
       "      <td>0.063254</td>\n",
       "      <td>0.037779</td>\n",
       "    </tr>\n",
       "    <tr>\n",
       "      <th>52</th>\n",
       "      <td>272</td>\n",
       "      <td>21</td>\n",
       "      <td>3</td>\n",
       "      <td>2020-05-09</td>\n",
       "      <td>Saturday</td>\n",
       "      <td>0</td>\n",
       "      <td>275.816742</td>\n",
       "      <td>314.585698</td>\n",
       "      <td>-0.004283</td>\n",
       "      <td>0.038745</td>\n",
       "    </tr>\n",
       "    <tr>\n",
       "      <th>53</th>\n",
       "      <td>282</td>\n",
       "      <td>21</td>\n",
       "      <td>9</td>\n",
       "      <td>2020-05-10</td>\n",
       "      <td>Sunday</td>\n",
       "      <td>0</td>\n",
       "      <td>286.466297</td>\n",
       "      <td>340.570548</td>\n",
       "      <td>0.015010</td>\n",
       "      <td>0.036374</td>\n",
       "    </tr>\n",
       "    <tr>\n",
       "      <th>54</th>\n",
       "      <td>308</td>\n",
       "      <td>23</td>\n",
       "      <td>4</td>\n",
       "      <td>2020-05-11</td>\n",
       "      <td>Monday</td>\n",
       "      <td>0</td>\n",
       "      <td>299.849433</td>\n",
       "      <td>363.439551</td>\n",
       "      <td>0.017474</td>\n",
       "      <td>0.037555</td>\n",
       "    </tr>\n",
       "    <tr>\n",
       "      <th>55</th>\n",
       "      <td>270</td>\n",
       "      <td>26</td>\n",
       "      <td>10</td>\n",
       "      <td>2020-05-12</td>\n",
       "      <td>Tuesday</td>\n",
       "      <td>0</td>\n",
       "      <td>321.361463</td>\n",
       "      <td>354.823732</td>\n",
       "      <td>-0.049460</td>\n",
       "      <td>0.040743</td>\n",
       "    </tr>\n",
       "  </tbody>\n",
       "</table>\n",
       "</div>"
      ],
      "text/plain": [
       "    new_cases  new_hospitalizations  new_deaths report_date day_of_week  \\\n",
       "42        170                    30          10  2020-04-29   Wednesday   \n",
       "43        163                    21          10  2020-04-30    Thursday   \n",
       "44        286                    37           3  2020-05-01      Friday   \n",
       "45        149                    43          16  2020-05-02    Saturday   \n",
       "46        294                    53          31  2020-05-03      Sunday   \n",
       "47        275                    32          14  2020-05-04      Monday   \n",
       "48        219                    16           3  2020-05-05     Tuesday   \n",
       "49        182                    37           5  2020-05-06   Wednesday   \n",
       "50         29                     8           5  2020-05-07    Thursday   \n",
       "51        293                    49          16  2020-05-08      Friday   \n",
       "52        272                    21           3  2020-05-09    Saturday   \n",
       "53        282                    21           9  2020-05-10      Sunday   \n",
       "54        308                    23           4  2020-05-11      Monday   \n",
       "55        270                    26          10  2020-05-12     Tuesday   \n",
       "\n",
       "    low_day     lcl_lvl        pred       dow     slope  \n",
       "42        0  191.561594  225.102060 -0.005385  0.041234  \n",
       "43        0  199.412879  222.238548 -0.034039  0.040918  \n",
       "44        0  208.499251  255.822374  0.062005  0.046128  \n",
       "45        0  216.754805  252.746652 -0.003041  0.039042  \n",
       "46        0  226.479435  263.502325  0.017804  0.044963  \n",
       "47        0  234.239495  285.626857  0.012268  0.032474  \n",
       "48        0  240.158020  273.624511 -0.045624  0.023362  \n",
       "49        0  247.082994  273.938179 -0.008008  0.028440  \n",
       "50        1  255.982745   39.666961 -0.031101  0.035273  \n",
       "51        0  265.529131  337.400486  0.063254  0.037779  \n",
       "52        0  275.816742  314.585698 -0.004283  0.038745  \n",
       "53        0  286.466297  340.570548  0.015010  0.036374  \n",
       "54        0  299.849433  363.439551  0.017474  0.037555  \n",
       "55        0  321.361463  354.823732 -0.049460  0.040743  "
      ]
     },
     "execution_count": 12,
     "metadata": {},
     "output_type": "execute_result"
    }
   ],
   "source": [
    "ffx_delta_df.tail(14)"
   ]
  },
  {
   "cell_type": "code",
   "execution_count": 13,
   "metadata": {},
   "outputs": [],
   "source": [
    "# export data\n",
    "ffx_delta_df.to_csv('ffx_covid_trend.csv')"
   ]
  },
  {
   "cell_type": "markdown",
   "metadata": {},
   "source": [
    "#### plot trend"
   ]
  },
  {
   "cell_type": "code",
   "execution_count": 14,
   "metadata": {},
   "outputs": [
    {
     "data": {
      "image/png": "[encoded data removed]",
      "text/plain": [
       "<Figure size 648x648 with 3 Axes>"
      ]
     },
     "metadata": {
      "needs_background": "light"
     },
     "output_type": "display_data"
    }
   ],
   "source": [
    "# setup figure\n",
    "num_rows = 3\n",
    "num_cols = 1\n",
    "fig, ax = plt.subplots(num_rows, num_cols, figsize=(9, 9), sharex=True)\n",
    "\n",
    "# set the title for the figure\n",
    "st = fig.suptitle('Fairfax County COVID-19 Trends',y=1.025,fontsize=16)\n",
    "\n",
    "# new cases trends\n",
    "ax[0].plot(ffx_delta_df['report_date'],ffx_delta_df['new_cases'],'o',markersize=5,color='coral')\n",
    "ax[0].plot(ffx_delta_df['report_date'],lcl_lvl,lw=3,color='steelblue')\n",
    "ax[0].set_title('New COVID-19 Cases',loc='left');\n",
    "\n",
    "# day of week effects\n",
    "ax[1].plot(ffx_delta_df['report_date'],dow,lw=1,color='seagreen')\n",
    "ax[1].text(datetime.date(2020,5,1),0.059,'Friday')\n",
    "ax[1].text(datetime.date(2020,5,8),0.059,'Friday')\n",
    "ax[1].set_title('Day of week effects',loc='left')\n",
    "\n",
    "# slope of new cases\n",
    "ax[2].plot(ffx_delta_df['report_date'],slope,lw=1,color='darksalmon')\n",
    "ax[2].set_title('Slope of new cases',loc='left')\n",
    "\n",
    "fig.tight_layout();"
   ]
  }
 ],
 "metadata": {
  "kernelspec": {
   "display_name": "Python 3",
   "language": "python",
   "name": "python3"
  },
  "language_info": {
   "codemirror_mode": {
    "name": "ipython",
    "version": 3
   },
   "file_extension": ".py",
   "mimetype": "text/x-python",
   "name": "python",
   "nbconvert_exporter": "python",
   "pygments_lexer": "ipython3",
   "version": "3.8.1"
  }
 },
 "nbformat": 4,
 "nbformat_minor": 2
}
